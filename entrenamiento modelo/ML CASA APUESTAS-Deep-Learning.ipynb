{
 "cells": [
  {
   "cell_type": "code",
   "execution_count": 1,
   "id": "2043a1e1-cf10-44f5-87e7-0d883ec4d119",
   "metadata": {},
   "outputs": [],
   "source": [
    "import pandas as pd\n",
    "import numpy as np"
   ]
  },
  {
   "cell_type": "code",
   "execution_count": 2,
   "id": "205696b8-7338-4233-a848-c720fb1cfede",
   "metadata": {},
   "outputs": [],
   "source": [
    "import glob"
   ]
  },
  {
   "cell_type": "markdown",
   "id": "7051c8ca",
   "metadata": {},
   "source": [
    "### Read data"
   ]
  },
  {
   "cell_type": "code",
   "execution_count": 3,
   "id": "020fdfe4-c1a5-4fdb-b786-4c13415d10cf",
   "metadata": {},
   "outputs": [],
   "source": [
    "paths = glob.glob(\"data/*/*\") # Todos los csvs de todos los partidos"
   ]
  },
  {
   "cell_type": "code",
   "execution_count": 4,
   "id": "d0c58888-4876-4e79-bb90-058b2873236a",
   "metadata": {},
   "outputs": [],
   "source": [
    "dfs = [] # lista de dataframes vacíos\n",
    "for path in paths:\n",
    "    df = pd.read_csv(path)\n",
    "    dfs.append(df) # Metemos todos los dataframes en una lista"
   ]
  },
  {
   "cell_type": "code",
   "execution_count": 5,
   "id": "309c6dbf-8ec1-4892-bf53-bd2905bb24a5",
   "metadata": {},
   "outputs": [],
   "source": [
    "result = pd.concat(dfs) # Los concatenamos"
   ]
  },
  {
   "cell_type": "code",
   "execution_count": 6,
   "id": "43151d5e",
   "metadata": {},
   "outputs": [
    {
     "data": {
      "text/html": [
       "<div>\n",
       "<style scoped>\n",
       "    .dataframe tbody tr th:only-of-type {\n",
       "        vertical-align: middle;\n",
       "    }\n",
       "\n",
       "    .dataframe tbody tr th {\n",
       "        vertical-align: top;\n",
       "    }\n",
       "\n",
       "    .dataframe thead th {\n",
       "        text-align: right;\n",
       "    }\n",
       "</style>\n",
       "<table border=\"1\" class=\"dataframe\">\n",
       "  <thead>\n",
       "    <tr style=\"text-align: right;\">\n",
       "      <th></th>\n",
       "      <th>Round</th>\n",
       "      <th>Date</th>\n",
       "      <th>Team 1</th>\n",
       "      <th>FT</th>\n",
       "      <th>HT</th>\n",
       "      <th>Team 2</th>\n",
       "      <th>∑FT</th>\n",
       "      <th>ET</th>\n",
       "      <th>P</th>\n",
       "      <th>Comments</th>\n",
       "      <th>Stage</th>\n",
       "      <th>Group</th>\n",
       "    </tr>\n",
       "  </thead>\n",
       "  <tbody>\n",
       "    <tr>\n",
       "      <th>0</th>\n",
       "      <td>Prelim. Round | Leg 1</td>\n",
       "      <td>(Thu) 21 Aug 1969 (W33)</td>\n",
       "      <td>TPS Turku › FIN (1)</td>\n",
       "      <td>0-1</td>\n",
       "      <td>0-0</td>\n",
       "      <td>KB Kobenhavn › DEN (1)</td>\n",
       "      <td>NaN</td>\n",
       "      <td>NaN</td>\n",
       "      <td>NaN</td>\n",
       "      <td>NaN</td>\n",
       "      <td>NaN</td>\n",
       "      <td>NaN</td>\n",
       "    </tr>\n",
       "    <tr>\n",
       "      <th>1</th>\n",
       "      <td>Prelim. Round | Leg 2</td>\n",
       "      <td>(Thu) 28 Aug 1969 (W34)</td>\n",
       "      <td>KB Kobenhavn › DEN (2)</td>\n",
       "      <td>4-0</td>\n",
       "      <td>0-0</td>\n",
       "      <td>TPS Turku › FIN (2)</td>\n",
       "      <td>5-0 (agg.)</td>\n",
       "      <td>NaN</td>\n",
       "      <td>NaN</td>\n",
       "      <td>NaN</td>\n",
       "      <td>NaN</td>\n",
       "      <td>NaN</td>\n",
       "    </tr>\n",
       "    <tr>\n",
       "      <th>2</th>\n",
       "      <td>Round 1 | Leg 1</td>\n",
       "      <td>(Wed) 10 Sep 1969 (W36)</td>\n",
       "      <td>AC Milan › ITA (1)</td>\n",
       "      <td>5-0</td>\n",
       "      <td>1-0</td>\n",
       "      <td>Avenir Beggen › LUX (1)</td>\n",
       "      <td>NaN</td>\n",
       "      <td>NaN</td>\n",
       "      <td>NaN</td>\n",
       "      <td>NaN</td>\n",
       "      <td>NaN</td>\n",
       "      <td>NaN</td>\n",
       "    </tr>\n",
       "  </tbody>\n",
       "</table>\n",
       "</div>"
      ],
      "text/plain": [
       "                   Round                     Date                  Team 1  \\\n",
       "0  Prelim. Round | Leg 1  (Thu) 21 Aug 1969 (W33)     TPS Turku › FIN (1)   \n",
       "1  Prelim. Round | Leg 2  (Thu) 28 Aug 1969 (W34)  KB Kobenhavn › DEN (2)   \n",
       "2        Round 1 | Leg 1  (Wed) 10 Sep 1969 (W36)      AC Milan › ITA (1)   \n",
       "\n",
       "    FT   HT                   Team 2         ∑FT   ET    P Comments Stage  \\\n",
       "0  0-1  0-0   KB Kobenhavn › DEN (1)         NaN  NaN  NaN      NaN   NaN   \n",
       "1  4-0  0-0      TPS Turku › FIN (2)  5-0 (agg.)  NaN  NaN      NaN   NaN   \n",
       "2  5-0  1-0  Avenir Beggen › LUX (1)         NaN  NaN  NaN      NaN   NaN   \n",
       "\n",
       "  Group  \n",
       "0   NaN  \n",
       "1   NaN  \n",
       "2   NaN  "
      ]
     },
     "execution_count": 6,
     "metadata": {},
     "output_type": "execute_result"
    }
   ],
   "source": [
    "result.head(3)"
   ]
  },
  {
   "cell_type": "code",
   "execution_count": 7,
   "id": "de90e4d6-cf3a-4f8a-934e-f01da32610ca",
   "metadata": {},
   "outputs": [],
   "source": [
    "result['Team 1'] = result['Team 1'].apply(lambda x: x.split(\" ›\")[0]) #Parseamos los nombres que son raros"
   ]
  },
  {
   "cell_type": "code",
   "execution_count": 8,
   "id": "c8e02640",
   "metadata": {},
   "outputs": [],
   "source": [
    "# Con cada team, aplico una función lambda, que me lo divide por el caracter raro, y se queda lo que esté\n",
    "# antes de él"
   ]
  },
  {
   "cell_type": "code",
   "execution_count": 9,
   "id": "e0d2c355-d0b8-4069-9d2d-52dd60006dcf",
   "metadata": {},
   "outputs": [],
   "source": [
    "result['Team 2'] = result['Team 2'].apply(lambda x: x.split(\" ›\")[0])"
   ]
  },
  {
   "cell_type": "code",
   "execution_count": 10,
   "id": "cdd84faf",
   "metadata": {},
   "outputs": [
    {
     "data": {
      "text/html": [
       "<div>\n",
       "<style scoped>\n",
       "    .dataframe tbody tr th:only-of-type {\n",
       "        vertical-align: middle;\n",
       "    }\n",
       "\n",
       "    .dataframe tbody tr th {\n",
       "        vertical-align: top;\n",
       "    }\n",
       "\n",
       "    .dataframe thead th {\n",
       "        text-align: right;\n",
       "    }\n",
       "</style>\n",
       "<table border=\"1\" class=\"dataframe\">\n",
       "  <thead>\n",
       "    <tr style=\"text-align: right;\">\n",
       "      <th></th>\n",
       "      <th>Round</th>\n",
       "      <th>Date</th>\n",
       "      <th>Team 1</th>\n",
       "      <th>FT</th>\n",
       "      <th>HT</th>\n",
       "      <th>Team 2</th>\n",
       "      <th>∑FT</th>\n",
       "      <th>ET</th>\n",
       "      <th>P</th>\n",
       "      <th>Comments</th>\n",
       "      <th>Stage</th>\n",
       "      <th>Group</th>\n",
       "    </tr>\n",
       "  </thead>\n",
       "  <tbody>\n",
       "    <tr>\n",
       "      <th>0</th>\n",
       "      <td>Prelim. Round | Leg 1</td>\n",
       "      <td>(Thu) 21 Aug 1969 (W33)</td>\n",
       "      <td>TPS Turku</td>\n",
       "      <td>0-1</td>\n",
       "      <td>0-0</td>\n",
       "      <td>KB Kobenhavn</td>\n",
       "      <td>NaN</td>\n",
       "      <td>NaN</td>\n",
       "      <td>NaN</td>\n",
       "      <td>NaN</td>\n",
       "      <td>NaN</td>\n",
       "      <td>NaN</td>\n",
       "    </tr>\n",
       "    <tr>\n",
       "      <th>1</th>\n",
       "      <td>Prelim. Round | Leg 2</td>\n",
       "      <td>(Thu) 28 Aug 1969 (W34)</td>\n",
       "      <td>KB Kobenhavn</td>\n",
       "      <td>4-0</td>\n",
       "      <td>0-0</td>\n",
       "      <td>TPS Turku</td>\n",
       "      <td>5-0 (agg.)</td>\n",
       "      <td>NaN</td>\n",
       "      <td>NaN</td>\n",
       "      <td>NaN</td>\n",
       "      <td>NaN</td>\n",
       "      <td>NaN</td>\n",
       "    </tr>\n",
       "    <tr>\n",
       "      <th>2</th>\n",
       "      <td>Round 1 | Leg 1</td>\n",
       "      <td>(Wed) 10 Sep 1969 (W36)</td>\n",
       "      <td>AC Milan</td>\n",
       "      <td>5-0</td>\n",
       "      <td>1-0</td>\n",
       "      <td>Avenir Beggen</td>\n",
       "      <td>NaN</td>\n",
       "      <td>NaN</td>\n",
       "      <td>NaN</td>\n",
       "      <td>NaN</td>\n",
       "      <td>NaN</td>\n",
       "      <td>NaN</td>\n",
       "    </tr>\n",
       "  </tbody>\n",
       "</table>\n",
       "</div>"
      ],
      "text/plain": [
       "                   Round                     Date        Team 1   FT   HT  \\\n",
       "0  Prelim. Round | Leg 1  (Thu) 21 Aug 1969 (W33)     TPS Turku  0-1  0-0   \n",
       "1  Prelim. Round | Leg 2  (Thu) 28 Aug 1969 (W34)  KB Kobenhavn  4-0  0-0   \n",
       "2        Round 1 | Leg 1  (Wed) 10 Sep 1969 (W36)      AC Milan  5-0  1-0   \n",
       "\n",
       "          Team 2         ∑FT   ET    P Comments Stage Group  \n",
       "0   KB Kobenhavn         NaN  NaN  NaN      NaN   NaN   NaN  \n",
       "1      TPS Turku  5-0 (agg.)  NaN  NaN      NaN   NaN   NaN  \n",
       "2  Avenir Beggen         NaN  NaN  NaN      NaN   NaN   NaN  "
      ]
     },
     "execution_count": 10,
     "metadata": {},
     "output_type": "execute_result"
    }
   ],
   "source": [
    "result.head(3)"
   ]
  },
  {
   "cell_type": "code",
   "execution_count": 11,
   "id": "bf3c9eac",
   "metadata": {},
   "outputs": [],
   "source": [
    "def only_numeric_and_score(x):\n",
    "    \"\"\"\n",
    "    Limpiar la basura de los resultados, a veces vienen cosas raras.\n",
    "    Solo dejar guiones y números\n",
    "    \"\"\"\n",
    "    new_result = \"\"\n",
    "    for s in x:\n",
    "        if s.isdigit():\n",
    "            new_result = new_result + s\n",
    "        if s == \"-\":\n",
    "            new_result = new_result + s\n",
    "    return new_result"
   ]
  },
  {
   "cell_type": "code",
   "execution_count": 12,
   "id": "93c32224",
   "metadata": {},
   "outputs": [],
   "source": [
    "result['FT'] = result.FT.apply(only_numeric_and_score) #el ft tiene basura que no es ni numerica ni el -"
   ]
  },
  {
   "cell_type": "code",
   "execution_count": 13,
   "id": "46ea6823-d3d7-4021-8070-b1bdb3e55701",
   "metadata": {},
   "outputs": [],
   "source": [
    "def get_winner(x):\n",
    "    \"\"\"\n",
    "    Función para saber quien ganó, si local, visitante o empate.\n",
    "    Lo sacamos desde el resultado.\n",
    "    \"\"\"\n",
    "    local_score, away_score = x['FT'].split(\"-\")\n",
    "    local_score = int(local_score)\n",
    "    away_score = int(away_score)\n",
    "    # Lo que esté antes del - son los goles del local, lo otro del visitante.\n",
    "    if local_score > away_score:\n",
    "        return \"local\"\n",
    "    elif local_score == away_score:\n",
    "        return \"tie\"\n",
    "    else:\n",
    "        return \"away\""
   ]
  },
  {
   "cell_type": "code",
   "execution_count": 14,
   "id": "325ed50c-88b7-44f6-8be8-d8e3cedec1dc",
   "metadata": {},
   "outputs": [],
   "source": [
    "result['winner'] = result.apply(get_winner, axis = 1)\n",
    "# El ganador lo conseguimos de aplicar nuestra función a todas las FILAS del dataframe"
   ]
  },
  {
   "cell_type": "code",
   "execution_count": 15,
   "id": "878ce4d4-1466-4448-81a6-26a6c4fdd898",
   "metadata": {},
   "outputs": [],
   "source": [
    "result['home_goals'] = result.FT.apply(lambda x: x.split(\"-\")[0]).astype(int) #goles locales\n",
    "result['away_goals'] = result.FT.apply(lambda x: x.split(\"-\")[-1]).astype(int)"
   ]
  },
  {
   "cell_type": "code",
   "execution_count": 16,
   "id": "4e7ee415",
   "metadata": {},
   "outputs": [
    {
     "data": {
      "text/plain": [
       "'\\nCaracterísticas a extraer:\\n\\nGoles promedio de cada equipo. \\n% Victorias de cada equipo\\n'"
      ]
     },
     "execution_count": 16,
     "metadata": {},
     "output_type": "execute_result"
    }
   ],
   "source": [
    "\"\"\"\n",
    "Características a extraer:\n",
    "\n",
    "Goles promedio de cada equipo. \n",
    "% Victorias de cada equipo\n",
    "\"\"\""
   ]
  },
  {
   "cell_type": "markdown",
   "id": "b9dab78c",
   "metadata": {},
   "source": [
    "## Características"
   ]
  },
  {
   "cell_type": "markdown",
   "id": "3c866dcd",
   "metadata": {},
   "source": [
    "## Goles promedio por equipo, histórico"
   ]
  },
  {
   "cell_type": "code",
   "execution_count": 17,
   "id": "6cfdd13a-2a06-4f9e-8daa-5118ee22793d",
   "metadata": {},
   "outputs": [],
   "source": [
    "total_goals = result.groupby(\"Team 1\")['home_goals'].sum() + result.groupby(\"Team 2\")['away_goals'].sum() #goles totales de cada equipo"
   ]
  },
  {
   "cell_type": "code",
   "execution_count": 18,
   "id": "a6c45d76-4928-4932-aabb-0f3656b32e79",
   "metadata": {},
   "outputs": [],
   "source": [
    "total_matches = result.groupby(\"Team 1\").size() + result.groupby(\"Team 2\").size() #partidos por equipo"
   ]
  },
  {
   "cell_type": "code",
   "execution_count": 19,
   "id": "80c1c014-852f-424a-8714-ec08e6367725",
   "metadata": {},
   "outputs": [],
   "source": [
    "avg_goals = total_goals / total_matches # goles promedio por equipo"
   ]
  },
  {
   "cell_type": "code",
   "execution_count": 20,
   "id": "b3c4a02e-24a0-43cf-9606-aa3ebb819346",
   "metadata": {},
   "outputs": [],
   "source": [
    "avg_goals_dict = avg_goals.to_dict() # a diccionario"
   ]
  },
  {
   "cell_type": "markdown",
   "id": "949940df",
   "metadata": {},
   "source": [
    "## Promedio de victorias por equipo"
   ]
  },
  {
   "cell_type": "code",
   "execution_count": 21,
   "id": "da133990-cd87-4e4f-9c1f-da2ea630d527",
   "metadata": {},
   "outputs": [],
   "source": [
    "from collections import defaultdict\n",
    "\n",
    "teams_results = defaultdict(list)\n",
    "\n",
    "\"\"\"\n",
    "Para cada equipo inicializar una lista vacía, cada vez que juega se le agregará\n",
    "Una true o false dependiendo si ganó o no.\n",
    "\"\"\"\n",
    "\n",
    "for idx, row in result.iterrows():\n",
    "    winner = row['winner']\n",
    "    if winner == \"home\":\n",
    "        teams_results[row['Team 1']].append(True)\n",
    "        teams_results[row['Team 2']].append(False)\n",
    "    if winner == \"tie\":\n",
    "        teams_results[row['Team 1']].append(False)\n",
    "        teams_results[row['Team 2']].append(False)\n",
    "    if winner == \"away\":\n",
    "        teams_results[row['Team 1']].append(False)\n",
    "        teams_results[row['Team 2']].append(True)"
   ]
  },
  {
   "cell_type": "code",
   "execution_count": 22,
   "id": "9b06259d-6e86-4999-b002-64dd8a1c4bf9",
   "metadata": {},
   "outputs": [],
   "source": [
    "perc_victories = {x:np.mean(y) for x,y in teams_results.items()} # El porcentaje de victorias es el promedio de la lista"
   ]
  },
  {
   "cell_type": "code",
   "execution_count": 23,
   "id": "1848ada5",
   "metadata": {},
   "outputs": [],
   "source": [
    "total_matches_dict = total_matches.to_dict()"
   ]
  },
  {
   "cell_type": "code",
   "execution_count": 24,
   "id": "00642549",
   "metadata": {},
   "outputs": [
    {
     "data": {
      "text/plain": [
       "{'1. FC Kaiserslautern': 1.5,\n",
       " '1. FC Nürnberg': 2.0,\n",
       " '1. FC Saarbrücken': 2.5,\n",
       " 'AC Chievo Verona': 1.0,\n",
       " 'AC Milan': 1.6546184738955823,\n",
       " 'AC Sparta Praha': 1.6875,\n",
       " 'ACF Fiorentina': 1.4,\n",
       " 'AE Larisa': 1.5,\n",
       " 'AEK Athens': 1.1451612903225807,\n",
       " 'AEL Limassol': 0.8,\n",
       " 'AFC Ajax': 1.4870466321243523,\n",
       " 'AIK Solna': 0.625,\n",
       " 'AJ Auxerre': 0.7916666666666666,\n",
       " 'APOEL Nikosia': 1.0588235294117647,\n",
       " 'AS Monaco': 1.6428571428571428,\n",
       " 'AS Roma': 1.2584269662921348,\n",
       " 'AS Saint-Etienne': 1.170731707317073,\n",
       " 'AS Trencin': 1.5,\n",
       " 'ASK Vorwarts Berlin': 1.5909090909090908,\n",
       " 'AZ Alkmaar': 1.2,\n",
       " 'Aalborg BK': 1.3333333333333333,\n",
       " 'Aarhus GF': 1.2222222222222223,\n",
       " 'Abderden': 1.1666666666666667,\n",
       " 'Admira Wien': 0.0,\n",
       " 'Akademisk BK': 1.0,\n",
       " 'Aktobe': 1.4375,\n",
       " 'Alania Vladikavkaz': 1.5,\n",
       " 'Anorthosis Famagusta': 1.3055555555555556,\n",
       " 'Apollon Limassol': 0.8333333333333334,\n",
       " 'Araks Ararat': 0.0,\n",
       " 'Ards': 1.5,\n",
       " 'Arges Pitesti': 1.625,\n",
       " 'Aris Bonnevoie': 1.0,\n",
       " 'Arsenal FC': 1.616580310880829,\n",
       " 'Astana': 1.1666666666666667,\n",
       " 'Astana-64': 1.5,\n",
       " 'Aston Villa FC': 1.6,\n",
       " 'Athletic Bilbao': 1.3571428571428572,\n",
       " 'Athlone Town': 1.75,\n",
       " 'Atletico Madrid': 1.5643564356435644,\n",
       " 'Atvidabergs FF': 1.5,\n",
       " 'Austria Wien': 1.36986301369863,\n",
       " 'Avenir Beggen': 0.08333333333333333,\n",
       " 'B 1903 Kobenhavn': 0.875,\n",
       " 'B 1909 Odense': 1.0,\n",
       " 'B 1913 Odense': 3.75,\n",
       " 'B36 Torshavn': 0.8333333333333334,\n",
       " 'B68 Toftir': 0.0,\n",
       " 'BATE Borisov': 1.0731707317073171,\n",
       " 'BFC Dynamo': 1.4210526315789473,\n",
       " 'BSC Young Boys': 1.48,\n",
       " 'BSG Chemie Leipzig': 1.0,\n",
       " 'Baku': 1.1666666666666667,\n",
       " 'Banants': 1.5,\n",
       " 'Bangor City': 0.0,\n",
       " 'Banik Ostrava': 1.25,\n",
       " 'Barry Town': 0.7857142857142857,\n",
       " 'Basel': 1.5,\n",
       " 'Bayer 04 Leverkusen': 1.5670103092783505,\n",
       " 'Bayern München': 1.9581993569131833,\n",
       " 'Beitar Jerusalem': 1.25,\n",
       " 'Belshina Bobruisk': 0.75,\n",
       " 'Beşiktaş İstanbul JK': 0.9411764705882353,\n",
       " 'Birkirkara': 1.2,\n",
       " 'Blackburn Rovers FC': 0.8333333333333334,\n",
       " 'Boavista FC': 1.0416666666666667,\n",
       " 'Bohemians': 0.7222222222222222,\n",
       " 'Bohemians EKD Praha': 1.75,\n",
       " 'Bologna FC': 0.6666666666666666,\n",
       " 'Borac Banja Luka': 2.0,\n",
       " 'Borussia Dortmund': 1.6754385964912282,\n",
       " 'Borussia Monchengladbach': 2.051282051282051,\n",
       " 'Brann': 0.6666666666666666,\n",
       " 'Breidablik': 1.0,\n",
       " 'Brondby IF': 1.2857142857142858,\n",
       " 'Budapest Honved SE': 1.5909090909090908,\n",
       " 'Budapesti Vasas': 2.2962962962962963,\n",
       " 'Budapesti Voros Lobogo': 4.0,\n",
       " 'Buducnost': 0.75,\n",
       " 'Burnley FC': 2.0,\n",
       " 'Bursaspor': 0.3333333333333333,\n",
       " 'CA Osasuna': 0.5,\n",
       " 'CCA Bucuresti': 1.2,\n",
       " 'CDNA Sofia': 1.9523809523809523,\n",
       " 'CFR Cluj': 1.1818181818181819,\n",
       " 'CSKA Moskva': 1.1951219512195121,\n",
       " 'CSKA Sofia': 1.2467532467532467,\n",
       " 'Cagliari Calcio': 1.25,\n",
       " 'Celta Vigo': 1.2,\n",
       " 'Celtic FC': 1.4772727272727273,\n",
       " 'Chelsea FC': 1.6644736842105263,\n",
       " 'Cliftonville': 0.16666666666666666,\n",
       " 'Club Brugge': 1.3493975903614457,\n",
       " 'Coleraine': 0.5,\n",
       " 'Cork Celtic': 0.5,\n",
       " 'Cork City': 0.875,\n",
       " 'Cork Hibernians': 0.5,\n",
       " 'Crusaders': 0.7,\n",
       " 'Crvena Zvezda': 1.9907407407407407,\n",
       " 'Csepel SC': 1.5,\n",
       " 'Cwmbran Town': 2.0,\n",
       " 'DOS Utrecht': 2.0,\n",
       " 'DSO Spartak Hradec Kralove': 0.5,\n",
       " 'DWS Amsterdam': 2.1666666666666665,\n",
       " 'Dacia Chisinau': 1.0,\n",
       " 'Daugava Daugavpils': 0.5,\n",
       " 'Debreceni VSC': 1.15625,\n",
       " 'Deportivo La Coruna': 1.2580645161290323,\n",
       " 'Derby County FC': 1.5,\n",
       " 'Derry City': 0.9,\n",
       " 'Dila Gori': 0.0,\n",
       " 'Dinamo Bucuresti': 1.4242424242424243,\n",
       " 'Dinamo Kiev': 1.4454545454545455,\n",
       " 'Dinamo Minsk': 1.5,\n",
       " 'Dinamo Moskva': 0.5,\n",
       " 'Dinamo Tbilisi': 1.46875,\n",
       " 'Dinamo Tirana': 0.5,\n",
       " 'Dinamo Zagreb': 1.4519230769230769,\n",
       " 'Djurgardens IF': 1.0625,\n",
       " 'Dnepr Dnepropetrovsk': 1.0714285714285714,\n",
       " 'Dnepr Mogilev': 0.0,\n",
       " 'Drogheda United': 1.5,\n",
       " 'Drumcondra Dublin': 0.5,\n",
       " 'Dukla Praha': 1.6666666666666667,\n",
       " 'Dunakanyar-Vac': 0.5,\n",
       " 'Dunaujvaros': 1.75,\n",
       " 'Dundalk': 0.7,\n",
       " 'Dundee FC': 2.5,\n",
       " 'Dundee United': 1.75,\n",
       " 'Dynamo Dresden': 1.6,\n",
       " 'EB / Streymur': 1.5,\n",
       " 'EPA Larnaca': 0.0,\n",
       " 'Eintracht Braunschweig': 1.0,\n",
       " 'Elfsborg': 1.4,\n",
       " 'Esbjerg fB': 0.9166666666666666,\n",
       " 'Etar Tarnovo': 0.5,\n",
       " 'Everton FC': 1.4,\n",
       " 'F91 Dudelange': 1.1666666666666667,\n",
       " 'FBK Kaunas': 1.5,\n",
       " 'FC Aarau': 0.75,\n",
       " 'FC Ararat': 2.3333333333333335,\n",
       " 'FC Barcelona': 1.9712230215827338,\n",
       " 'FC Carl Zeiss Jena': 2.0,\n",
       " 'FC Jazz': 1.5,\n",
       " 'FC Karl-Marx-Stadt': 1.0,\n",
       " 'FC Kuusysi': 0.7857142857142857,\n",
       " 'FC La Chaux-de-Fonds': 1.25,\n",
       " 'FC Luzern': 0.0,\n",
       " 'FC Metz': 0.5,\n",
       " 'FC Nantes': 1.3,\n",
       " 'FC Norma Tallinn': 0.25,\n",
       " 'FC Politehnica Timisoara': 0.5,\n",
       " 'FC Porto': 1.455813953488372,\n",
       " 'FC RB Salzburg': 1.2857142857142858,\n",
       " 'FC Reipas Lahti': 1.0,\n",
       " 'FC Santa Coloma': 0.75,\n",
       " 'FC Schalke 04': 1.463768115942029,\n",
       " 'FC Slavia Mozyr': 1.5,\n",
       " 'FC Tiraspol': 1.5,\n",
       " 'FC Tirol': 2.625,\n",
       " 'FC Twente': 1.0714285714285714,\n",
       " 'FC Universitatea Craiova': 1.1666666666666667,\n",
       " 'FC Yerevan': 0.0,\n",
       " 'FC Zurich': 1.2222222222222223,\n",
       " 'FH': 0.8333333333333334,\n",
       " 'FK Ekranas': 0.95,\n",
       " 'FK Inter Bratislava': 1.25,\n",
       " 'FK Kareda Kaunas': 0.25,\n",
       " 'FK Leotar': 0.75,\n",
       " 'FK Modrica': 1.25,\n",
       " 'FK Mogren': 1.1666666666666667,\n",
       " 'FK Obilic': 1.25,\n",
       " 'FK Partizani Tirana': 0.4375,\n",
       " 'FK Pobeda': 0.5,\n",
       " 'FK Rudar Pljevlja': 1.1666666666666667,\n",
       " 'FK Sarajevo': 1.3571428571428572,\n",
       " 'FK Sileks': 0.5,\n",
       " 'FK Vllaznia': 1.125,\n",
       " 'FK Zalgiris Vilnius': 0.5,\n",
       " 'FK Zeta': 1.25,\n",
       " 'Fenerbahçe İstanbul SK': 1.1386138613861385,\n",
       " 'Ferencvaros': 1.5555555555555556,\n",
       " 'Feyenoord Rotterdam': 1.6746987951807228,\n",
       " 'Flora Tallinn': 0.6428571428571429,\n",
       " 'Floriana': 0.3125,\n",
       " 'Fola Esch': 0.25,\n",
       " 'Fram Reykjavik': 0.5,\n",
       " 'Frankfurter SG Eintracht': 3.2857142857142856,\n",
       " 'Fredrikstad FK': 0.75,\n",
       " 'GI Gota': 0.0,\n",
       " 'Galatasaray İstanbul AŞ': 1.2638036809815951,\n",
       " 'Girondins Bordeaux': 1.06,\n",
       " 'Glenavon FC': 0.0,\n",
       " 'Glentoran': 0.7142857142857143,\n",
       " 'Gomel': 0.5,\n",
       " 'Gornik Zabrze': 1.6046511627906976,\n",
       " 'Grasshoppers Zurich': 1.4814814814814814,\n",
       " 'Grazer AK': 1.9,\n",
       " 'Grevenmacher': 0.0,\n",
       " 'Gwardia Warszawa': 1.2,\n",
       " 'Gyori ETO': 1.7,\n",
       " 'HB': 0.9444444444444444,\n",
       " 'HB Koge': 0.0,\n",
       " 'HJK Helsinki': 1.203125,\n",
       " 'HNK Gorica': 1.6666666666666667,\n",
       " 'HNK Rijeka': 0.5,\n",
       " 'HPS Helsinki': 0.0,\n",
       " 'HSK Zrinjski Mostar': 0.3333333333333333,\n",
       " 'Hajduk Split': 1.45,\n",
       " 'Haka Valkeakoski': 1.1538461538461537,\n",
       " 'Halmstads BK': 1.3,\n",
       " 'Hamburger SV': 1.6341463414634145,\n",
       " 'Hammarby': 0.5,\n",
       " 'Hamrun Spartans': 0.25,\n",
       " 'Hansa Rostock': 0.5,\n",
       " 'Hapoel Haifa': 0.25,\n",
       " 'Hapoel Ironi Kiryat Shmona': 1.5,\n",
       " 'Hapoel Tel Aviv': 1.5,\n",
       " 'Heart of Midlothian': 1.0,\n",
       " 'Hellas Verona': 1.25,\n",
       " 'Helsingborgs IF': 1.1875,\n",
       " 'Helsingfors IFK': 1.25,\n",
       " 'Hertha BSC': 0.8571428571428571,\n",
       " 'Hibernian FC': 1.5,\n",
       " 'Hibernians': 0.85,\n",
       " 'Hvidovre IF': 1.625,\n",
       " 'IA Akranes': 0.8181818181818182,\n",
       " 'IB Keflavik': 0.625,\n",
       " 'IB Vestmannaeyja': 0.75,\n",
       " 'IFK Goteborg': 1.670731707317073,\n",
       " 'IFK Malmo': 1.1666666666666667,\n",
       " 'IFK Norrkoping': 1.1666666666666667,\n",
       " 'IK Start': 0.5,\n",
       " 'Ilves Tampere': 0.5,\n",
       " 'Inter Baku PIK': 0.5,\n",
       " 'Inter Turku': 0.0,\n",
       " 'Internazionale': 1.4397590361445782,\n",
       " 'Ipswich Town FC': 4.0,\n",
       " 'Irtysh Pavlodar': 0.5,\n",
       " 'Jeunesse Esch': 0.8775510204081632,\n",
       " 'Juventus': 1.5756302521008403,\n",
       " 'K Lierse SK': 0.6,\n",
       " 'KA Akureyri': 0.5,\n",
       " 'KAA Gent': 1.1,\n",
       " 'KB Kobenhavn': 1.4615384615384615,\n",
       " 'KF Tirana': 0.9444444444444444,\n",
       " 'KI Klaksvik': 0.25,\n",
       " 'KPV Kokkola': 0.0,\n",
       " 'KR Reykjavik': 1.0,\n",
       " 'KRC Genk': 0.9090909090909091,\n",
       " 'KS Elbasani': 0.25,\n",
       " 'KS Flamurtari Vlore': 0.5,\n",
       " 'KSK Beveren': 1.6666666666666667,\n",
       " 'KV Mechelen': 1.5,\n",
       " 'Kairat': 1.0,\n",
       " 'Kalmar FF': 1.5,\n",
       " 'Kapaz': 1.0,\n",
       " 'Khazar Lankaran': 1.0,\n",
       " 'Kilmarnock FC': 1.0,\n",
       " 'Kispesti Honved': 1.5,\n",
       " 'Kobenhavn': 1.328125,\n",
       " 'Koge BK': 0.5,\n",
       " 'Koln': 1.588235294117647,\n",
       " 'Koper': 2.0,\n",
       " 'Kosice': 1.5714285714285714,\n",
       " 'Kuopion PS': 0.6666666666666666,\n",
       " 'LKS Lodz': 1.5,\n",
       " 'La Fiorita': 0.0,\n",
       " 'Lantana Tallinn': 0.0,\n",
       " 'Lausanne Sports': 0.0,\n",
       " 'Lech Poznan': 1.125,\n",
       " 'Leeds United FC': 1.925,\n",
       " 'Legia Warsaw': 1.3333333333333333,\n",
       " 'Levadia': 1.0769230769230769,\n",
       " 'Levski Sofia': 1.2857142857142858,\n",
       " 'Liepajas Metalurgs': 0.5,\n",
       " 'Lille OSC': 0.8571428571428571,\n",
       " 'Lillestrom': 0.7142857142857143,\n",
       " 'Limerick FC': 1.0,\n",
       " 'Lincoln Red Imps': 0.8333333333333334,\n",
       " 'Linfield': 0.873015873015873,\n",
       " 'Linzer ASK': 1.0,\n",
       " 'Lisburn Distillery': 1.5,\n",
       " 'Liverpool FC': 1.7679558011049723,\n",
       " 'Llanelli': 0.5,\n",
       " 'Lokomotiv Moskva': 1.105263157894737,\n",
       " 'Lokomotiv Sofia': 2.375,\n",
       " 'Lugano': 1.0,\n",
       " 'Lusitanos': 0.75,\n",
       " 'Lyn Oslo': 1.4,\n",
       " 'Lyngby BK': 1.1666666666666667,\n",
       " 'MFK Ruzomberok': 0.75,\n",
       " 'MSK Zilina': 0.9230769230769231,\n",
       " 'MTK': 1.25,\n",
       " 'MYPA': 1.0,\n",
       " 'Maccabi Haifa': 1.736842105263158,\n",
       " 'Maccabi Tel Aviv': 1.0,\n",
       " 'Magdeburg': 1.875,\n",
       " 'Makedonija': 0.0,\n",
       " 'Malaga CF': 1.5,\n",
       " 'Malmo FF': 1.0579710144927537,\n",
       " 'Manchester City FC': 1.5238095238095237,\n",
       " 'Manchester United FC': 1.839080459770115,\n",
       " 'Marsaxlokk': 0.5,\n",
       " 'Metalist Kharkiv': 1.5,\n",
       " 'Metalurgi Rustavi': 0.25,\n",
       " 'Midtjylland': 1.25,\n",
       " 'Milsami Orhei': 0.75,\n",
       " 'Mlada Boleslav': 2.0,\n",
       " 'Molde FK': 1.3181818181818181,\n",
       " 'Montpellier HSC': 1.0,\n",
       " 'Moss FK': 0.0,\n",
       " 'Motherwell FC': 0.0,\n",
       " 'Murata': 0.25,\n",
       " 'NK Brotnjo': 1.5,\n",
       " 'NK Domzale': 1.25,\n",
       " 'NK Maribor': 1.1833333333333333,\n",
       " 'NK Siroki Brijeg': 0.6666666666666666,\n",
       " 'NK Zagreb': 1.0,\n",
       " 'NSI': 0.5,\n",
       " 'Neftchi PFC Baku': 0.7777777777777778,\n",
       " 'Neuchatel Xamax FC': 1.75,\n",
       " 'Newcastle United FC': 1.375,\n",
       " 'Nomme Kalju': 1.0,\n",
       " 'Nordsjaelland': 0.5,\n",
       " 'Nottingham Forest FC': 1.6,\n",
       " 'OGC Nice': 2.0714285714285716,\n",
       " 'OPS Oulu': 0.5,\n",
       " 'Odense BK': 1.0,\n",
       " 'Olimpija Ljubljana': 1.0,\n",
       " 'Olympiacos': 1.2123287671232876,\n",
       " 'Olympique Lyon': 1.6129032258064515,\n",
       " 'Olympique Marseille': 1.5,\n",
       " 'Omonia Nicosia': 1.2037037037037037,\n",
       " 'Orgryte IS': 1.5,\n",
       " 'Osters IF': 0.375,\n",
       " 'Otelul Galati': 0.5,\n",
       " 'PAOK FC': 0.9285714285714286,\n",
       " 'PFC Beroe': 0.5,\n",
       " 'PFC Litex Lovech': 1.8125,\n",
       " 'PFC Lokomotiv Plovdiv': 0.0,\n",
       " 'PFC Ludogorets Razgrad': 1.1818181818181819,\n",
       " 'PFC Slavia Sofia': 1.25,\n",
       " 'PSV Eindhoven': 1.2919254658385093,\n",
       " 'Pacos de Ferreira': 1.5,\n",
       " 'Panathinaikos FC': 1.1592356687898089,\n",
       " 'Paris Saint-Germain': 1.7375,\n",
       " 'Parma': 1.25,\n",
       " 'Partizan Belgrade': 1.5445544554455446,\n",
       " 'Petrolul Ploiesti': 1.0,\n",
       " 'Petrzalka Akademia': 1.2777777777777777,\n",
       " 'Pezoporikos Larnaca': 1.0,\n",
       " 'Polonia Bytom': 1.3333333333333333,\n",
       " 'Polonia Warszawa': 2.5,\n",
       " 'Portadown': 0.5,\n",
       " 'Progres Niedercorn': 0.25,\n",
       " 'Pyunik': 0.8823529411764706,\n",
       " 'Qarabag FK': 1.0,\n",
       " 'RC Lens': 1.3333333333333333,\n",
       " 'RC Strasbourg': 1.1666666666666667,\n",
       " 'RCD Mallorca': 0.6,\n",
       " 'RSC Anderlecht': 1.455958549222798,\n",
       " 'RWD Molenbeek': 1.5,\n",
       " 'Raba ETO Gyor': 1.8333333333333333,\n",
       " 'Rabat Ajax': 0.0,\n",
       " 'Rabotnicki': 1.0714285714285714,\n",
       " \"Ranger's\": 0.0,\n",
       " 'Rangers FC': 1.434782608695652,\n",
       " 'Rapid Bucuresti': 1.0,\n",
       " 'Rapid JC Heerlen': 1.5,\n",
       " 'Rapid Wien': 1.6233766233766234,\n",
       " 'Real Betis': 0.75,\n",
       " 'Real Madrid CF': 2.181360201511335,\n",
       " 'Real Sociedad': 0.9230769230769231,\n",
       " 'Red Boys Differdange': 1.5,\n",
       " 'Renova': 0.0,\n",
       " 'Rhyl': 0.25,\n",
       " 'Rosenborg BK': 1.4393939393939394,\n",
       " 'Rot-Weiss Essen': 0.5,\n",
       " 'Royal Antwerp FC': 0.5,\n",
       " 'Rubin Kazan': 0.75,\n",
       " 'Ruch Chorzow': 1.4285714285714286,\n",
       " 'S.S. Folgore Falciano Calcio': 1.0,\n",
       " 'SC Motor Jena': 0.0,\n",
       " 'SC Wismut Karl-Marx-Stadt': 1.625,\n",
       " 'SK Slovan Bratislava': 1.1176470588235294,\n",
       " 'SK Sturm Graz': 1.225,\n",
       " 'SK VOEST Linz': 0.0,\n",
       " 'SL Benfica': 1.6710526315789473,\n",
       " 'SS Lazio': 1.5384615384615385,\n",
       " 'SSC Napoli': 1.4545454545454546,\n",
       " 'SSW Innsbruck': 0.8888888888888888,\n",
       " 'Servette Geneve': 1.5238095238095237,\n",
       " 'Sevilla FC': 1.8125,\n",
       " 'Shakhtar Donetsk': 1.5,\n",
       " 'Shakhter Karagandy': 1.25,\n",
       " 'Shakhtyor Soligorsk': 0.0,\n",
       " 'Shamkir': 0.6666666666666666,\n",
       " 'Shamrock Rovers': 0.45,\n",
       " 'Shelbourne': 1.05,\n",
       " 'Sheriff Tiraspol': 0.9642857142857143,\n",
       " 'Shirak': 1.0,\n",
       " 'Shkendija': 0.0,\n",
       " 'Silkeborg IF': 0.5,\n",
       " 'Sion': 2.0,\n",
       " 'Sioni Bolnisi': 0.5,\n",
       " 'Sivasspor': 1.5,\n",
       " 'Skeid Oslo': 0.5,\n",
       " 'Skenderbeu Korce': 1.0625,\n",
       " 'Skonto': 1.3571428571428572,\n",
       " 'Slask Wroclaw': 0.8333333333333334,\n",
       " 'Slavia Praha': 0.8214285714285714,\n",
       " 'Sliema Wanderers': 0.7083333333333334,\n",
       " 'Sligo Rovers': 0.0,\n",
       " 'Sloga Jugomagnat Skopje': 0.5,\n",
       " 'Slovan Liberec': 0.75,\n",
       " 'Sparta Praha': 1.1944444444444444,\n",
       " 'Sparta Rotterdam': 2.0,\n",
       " 'Spartak Moskva': 1.4210526315789473,\n",
       " 'Spartak Plovdiv': 0.75,\n",
       " 'Spartak TAZ Trnava': 1.8333333333333333,\n",
       " 'Spora Luxemburg': 1.0,\n",
       " 'Sporting Braga': 1.2777777777777777,\n",
       " 'Sporting CP': 1.2820512820512822,\n",
       " \"St Patrick's Athletic\": 0.25,\n",
       " 'St. Gallen': 1.5,\n",
       " 'Stabaek': 1.5,\n",
       " 'Stade Dudelange': 0.25,\n",
       " 'Stade Reims': 2.625,\n",
       " 'Stal Mielec': 0.5,\n",
       " 'Standard Liege': 1.5178571428571428,\n",
       " 'Steaua Bucuresti': 1.4166666666666667,\n",
       " 'Stjarnan': 0.5,\n",
       " 'Stromsgodset IF': 0.25,\n",
       " 'Sutjeska Niksic': 0.25,\n",
       " 'Szombierki Bytom': 1.0,\n",
       " 'TJ Vitkovice': 1.0,\n",
       " 'TPS Turku': 0.4,\n",
       " 'TSV 1860 Munchen': 2.1666666666666665,\n",
       " 'TVMK': 1.5,\n",
       " 'Tampere United': 1.0,\n",
       " 'Tavriya Simferopol': 1.0,\n",
       " 'Teplice': 0.0,\n",
       " 'The New Saints': 0.8636363636363636,\n",
       " 'Thun': 1.1,\n",
       " 'Tobol': 0.5,\n",
       " 'Torino FC': 1.0,\n",
       " 'Torpedo Kutaisi': 1.2,\n",
       " 'Torpedo Moskva': 0.0,\n",
       " 'Tottenham Hotspur FC': 2.3,\n",
       " 'Toulouse FC': 0.0,\n",
       " 'Trabzonspor AŞ': 0.8571428571428571,\n",
       " 'Trakia Plovdiv': 1.25,\n",
       " 'Tre Fiori': 0.6666666666666666,\n",
       " 'Tre Penne': 0.25,\n",
       " 'UC Sampdoria': 1.9230769230769231,\n",
       " 'UE Sant Julia': 0.5,\n",
       " 'UT Arad': 0.5,\n",
       " 'Udinese Calcio': 1.4166666666666667,\n",
       " 'Ujpesti Dozsa SC': 1.5909090909090908,\n",
       " 'Ulisses': 0.0,\n",
       " 'Union Luxembourg': 0.3,\n",
       " 'Unirea Urziceni': 1.0,\n",
       " 'Vagur': 0.0,\n",
       " 'Valencia CF': 1.5087719298245614,\n",
       " 'Valerenga IF': 1.2142857142857142,\n",
       " 'Valletta': 0.7777777777777778,\n",
       " 'Valur Reykjavik': 0.5,\n",
       " 'Vardar Skopje': 1.1666666666666667,\n",
       " 'Vaslui': 0.5,\n",
       " 'Vejle BK': 1.0833333333333333,\n",
       " 'Ventspils': 1.05,\n",
       " 'VfB Stuttgart': 1.2413793103448276,\n",
       " 'VfL Wolfsburg': 1.5,\n",
       " 'Videoton': 1.0,\n",
       " 'Viking FK': 0.7857142857142857,\n",
       " 'Vikingur Reykjavik': 0.8333333333333334,\n",
       " 'Viktoria Plzen': 1.9230769230769231,\n",
       " 'Villarreal CF': 0.9375,\n",
       " 'Vitoria Guimaraes': 0.5,\n",
       " 'Vitosha Sofia': 1.0,\n",
       " 'Vojvodina': 1.0,\n",
       " 'WIT Georgia': 1.6666666666666667,\n",
       " 'Waterford AFC': 1.0714285714285714,\n",
       " 'Werder Bremen': 1.6363636363636365,\n",
       " 'Widzew Lodz': 1.8461538461538463,\n",
       " 'Wiener Sport-Club': 1.75,\n",
       " 'Willem II Tilburg': 1.1666666666666667,\n",
       " 'Wisla Krakow': 1.8125,\n",
       " 'Wolverhampton Wanderers FC': 1.5,\n",
       " 'Zaglebie Lubin': 0.75,\n",
       " 'Zalaegerszegi TE': 0.75,\n",
       " 'Zalgiris Vilnius': 1.25,\n",
       " 'Zbrojovka Brno': 1.75,\n",
       " 'Zeljeznicar Sarajevo': 0.8125,\n",
       " 'Zenit St. Petersburg': 1.3275862068965518,\n",
       " 'Zestafoni': 1.0,\n",
       " 'Zimbru Chisinau': 1.5,\n",
       " 'Zorya Voroshilovgrad': 0.75,\n",
       " 'Zulte-Waregem': 0.0,\n",
       " 'sc Heerenveen': 0.5}"
      ]
     },
     "execution_count": 24,
     "metadata": {},
     "output_type": "execute_result"
    }
   ],
   "source": [
    "avg_goals_dict"
   ]
  },
  {
   "cell_type": "markdown",
   "id": "9c0e0cdd",
   "metadata": {},
   "source": [
    "## Agrego variables al dataset original"
   ]
  },
  {
   "cell_type": "code",
   "execution_count": 25,
   "id": "7e4b0098-5bb6-4e31-aec1-a26d4b55999d",
   "metadata": {},
   "outputs": [],
   "source": [
    "result['perc_victories_team_1'] = result['Team 1'].apply(lambda x: perc_victories.get(x))"
   ]
  },
  {
   "cell_type": "code",
   "execution_count": 26,
   "id": "160bca35-ab97-4586-a913-843b6d7764f1",
   "metadata": {},
   "outputs": [],
   "source": [
    "result['perc_victories_team_2'] = result['Team 2'].apply(lambda x: perc_victories.get(x))"
   ]
  },
  {
   "cell_type": "code",
   "execution_count": 27,
   "id": "4eb45fc3-a844-4fe0-b46d-8090cba26c8a",
   "metadata": {},
   "outputs": [],
   "source": [
    "result['avg_goals_team_1'] = result['Team 1'].apply(lambda x: avg_goals.get(x))"
   ]
  },
  {
   "cell_type": "code",
   "execution_count": 28,
   "id": "c497b757-6753-4bca-9403-9f66823173df",
   "metadata": {},
   "outputs": [],
   "source": [
    "result['avg_goals_team_2']  = result['Team 2'].apply(lambda x: avg_goals.get(x))"
   ]
  },
  {
   "cell_type": "code",
   "execution_count": 29,
   "id": "df0c6942",
   "metadata": {},
   "outputs": [],
   "source": [
    "result['total_matches_team_1'] = result['Team 1'].apply(lambda x: total_matches_dict.get(x))"
   ]
  },
  {
   "cell_type": "code",
   "execution_count": 30,
   "id": "d232ff09",
   "metadata": {},
   "outputs": [],
   "source": [
    "result['total_matches_team_2']  = result['Team 2'].apply(lambda x: total_matches_dict.get(x))"
   ]
  },
  {
   "cell_type": "markdown",
   "id": "f3e125db",
   "metadata": {},
   "source": [
    "## Preprocesamiento para entrenar"
   ]
  },
  {
   "cell_type": "code",
   "execution_count": 50,
   "id": "01b4ec61-4456-44ef-8fde-5ffb76331f8c",
   "metadata": {},
   "outputs": [],
   "source": [
    "to_keep = ['Team 1', 'Team 2', 'winner', 'perc_victories_team_1', 'perc_victories_team_2', 'avg_goals_team_1','avg_goals_team_2', 'total_matches_team_1', 'total_matches_team_2']"
   ]
  },
  {
   "cell_type": "code",
   "execution_count": 137,
   "id": "f6de334d-91e1-4378-9218-387a1c4c8e60",
   "metadata": {},
   "outputs": [],
   "source": [
    "training_df = result[to_keep].copy() # SOlo nos quedamos con lo que nos interesa"
   ]
  },
  {
   "cell_type": "markdown",
   "id": "f0087617",
   "metadata": {},
   "source": [
    "### Mapeo de equipos a un código"
   ]
  },
  {
   "cell_type": "code",
   "execution_count": 138,
   "id": "c977933c-7131-4692-9d25-20b1db171240",
   "metadata": {},
   "outputs": [],
   "source": [
    "unique_teams = pd.concat([training_df['Team 1'],training_df['Team 2']]).unique()"
   ]
  },
  {
   "cell_type": "code",
   "execution_count": 139,
   "id": "19f403ab-581b-4bbc-bafb-da87631b33e2",
   "metadata": {},
   "outputs": [],
   "source": [
    "teams_map = {x:idx for idx,x in enumerate(unique_teams)}"
   ]
  },
  {
   "cell_type": "code",
   "execution_count": 140,
   "id": "c9eecc0a-d793-486c-a2b1-fda000819c68",
   "metadata": {},
   "outputs": [],
   "source": [
    "training_df = training_df.dropna().copy()"
   ]
  },
  {
   "cell_type": "code",
   "execution_count": 141,
   "id": "55145c3d-8655-49fc-9be7-ef30942e50ea",
   "metadata": {},
   "outputs": [],
   "source": [
    "training_df['Team 1'] = training_df['Team 1'].map(teams_map) #Mapeo\n",
    "training_df['Team 2'] = training_df['Team 2'].map(teams_map)"
   ]
  },
  {
   "cell_type": "code",
   "execution_count": 60,
   "id": "febd1174",
   "metadata": {},
   "outputs": [],
   "source": [
    "training_df = training_df.iloc[:, 2:].copy() # Pa eliminar los teams"
   ]
  },
  {
   "cell_type": "markdown",
   "id": "b9f6ba95",
   "metadata": {},
   "source": [
    "## Modelaje"
   ]
  },
  {
   "cell_type": "code",
   "execution_count": 142,
   "id": "d7c0da14",
   "metadata": {},
   "outputs": [],
   "source": [
    "from sklearn.ensemble import RandomForestClassifier\n",
    "from sklearn.model_selection import train_test_split"
   ]
  },
  {
   "cell_type": "markdown",
   "id": "18fb0a69",
   "metadata": {},
   "source": [
    "### X,y, train test split"
   ]
  },
  {
   "cell_type": "code",
   "execution_count": 143,
   "id": "7c2a731c-3b0d-425a-894c-58a39d1c954b",
   "metadata": {},
   "outputs": [],
   "source": [
    "y = training_df['winner'].values\n",
    "X = training_df.drop(\"winner\", axis = 1).values"
   ]
  },
  {
   "cell_type": "code",
   "execution_count": 144,
   "id": "648c9e91",
   "metadata": {},
   "outputs": [],
   "source": [
    "labeling_maps = ['local', 'away', 'tie']"
   ]
  },
  {
   "cell_type": "code",
   "execution_count": 145,
   "id": "50f1d7bd",
   "metadata": {},
   "outputs": [],
   "source": [
    "y_labels = [labeling_maps.index(x) for x in y]"
   ]
  },
  {
   "cell_type": "code",
   "execution_count": 146,
   "id": "179eeab4-db0f-417f-a150-735f273d7f57",
   "metadata": {},
   "outputs": [],
   "source": [
    "X_train, X_test, y_train, y_test = train_test_split(X, y_labels, test_size=0.2)"
   ]
  },
  {
   "cell_type": "markdown",
   "id": "991e282c",
   "metadata": {},
   "source": [
    "### Modelo"
   ]
  },
  {
   "cell_type": "code",
   "execution_count": 147,
   "id": "4f60049f",
   "metadata": {},
   "outputs": [],
   "source": [
    "import tensorflow as tf"
   ]
  },
  {
   "cell_type": "code",
   "execution_count": 148,
   "id": "841028d7",
   "metadata": {},
   "outputs": [
    {
     "data": {
      "text/plain": [
       "[]"
      ]
     },
     "execution_count": 148,
     "metadata": {},
     "output_type": "execute_result"
    }
   ],
   "source": [
    "tf.config.list_physical_devices('GPU')"
   ]
  },
  {
   "cell_type": "code",
   "execution_count": 159,
   "id": "8970e74e",
   "metadata": {},
   "outputs": [],
   "source": [
    "model = tf.keras.Sequential([\n",
    "    tf.keras.layers.Dense(128, input_shape=(X_train.shape[1],), activation='relu'),\n",
    "    tf.keras.layers.Dropout(0.2),\n",
    "    tf.keras.layers.Dense(64, activation='relu'),\n",
    "    tf.keras.layers.Dropout(0.2),\n",
    "    tf.keras.layers.Dense(32, activation='relu'),\n",
    "    tf.keras.layers.Dropout(0.2),\n",
    "    tf.keras.layers.Dense(16, activation='relu'),\n",
    "    tf.keras.layers.Dropout(0.2),\n",
    "    tf.keras.layers.Dense(len(set(y)), activation='softmax')\n",
    "])"
   ]
  },
  {
   "cell_type": "code",
   "execution_count": 160,
   "id": "01f276ed",
   "metadata": {},
   "outputs": [],
   "source": [
    "model.compile(optimizer='adam', loss='categorical_crossentropy', metrics='accuracy')"
   ]
  },
  {
   "cell_type": "code",
   "execution_count": 161,
   "id": "bb781618",
   "metadata": {},
   "outputs": [],
   "source": [
    "train_labels = tf.keras.utils.to_categorical(y_train, num_classes=3)\n",
    "validation_labels = tf.keras.utils.to_categorical(y_test, num_classes=3)"
   ]
  },
  {
   "cell_type": "code",
   "execution_count": 162,
   "id": "fd1163e2",
   "metadata": {},
   "outputs": [
    {
     "name": "stdout",
     "output_type": "stream",
     "text": [
      "Epoch 1/100\n",
      "163/163 [==============================] - 0s 1ms/step - loss: 4.2860 - accuracy: 0.4137 - val_loss: 1.0729 - val_accuracy: 0.5369\n",
      "Epoch 2/100\n",
      "163/163 [==============================] - 0s 885us/step - loss: 1.2117 - accuracy: 0.5086 - val_loss: 1.0427 - val_accuracy: 0.5369\n",
      "Epoch 3/100\n",
      "163/163 [==============================] - 0s 884us/step - loss: 1.1138 - accuracy: 0.5113 - val_loss: 1.0252 - val_accuracy: 0.5369\n",
      "Epoch 4/100\n",
      "163/163 [==============================] - 0s 882us/step - loss: 1.0582 - accuracy: 0.5211 - val_loss: 1.0175 - val_accuracy: 0.5369\n",
      "Epoch 5/100\n",
      "163/163 [==============================] - 0s 902us/step - loss: 1.0542 - accuracy: 0.5220 - val_loss: 1.0143 - val_accuracy: 0.5369\n",
      "Epoch 6/100\n",
      "163/163 [==============================] - 0s 878us/step - loss: 1.0450 - accuracy: 0.5220 - val_loss: 1.0127 - val_accuracy: 0.5369\n",
      "Epoch 7/100\n",
      "163/163 [==============================] - 0s 874us/step - loss: 1.0340 - accuracy: 0.5211 - val_loss: 1.0121 - val_accuracy: 0.5369\n",
      "Epoch 8/100\n",
      "163/163 [==============================] - 0s 885us/step - loss: 1.0271 - accuracy: 0.5234 - val_loss: 0.9992 - val_accuracy: 0.5369\n",
      "Epoch 9/100\n",
      "163/163 [==============================] - 0s 898us/step - loss: 1.0186 - accuracy: 0.5247 - val_loss: 0.9991 - val_accuracy: 0.5369\n",
      "Epoch 10/100\n",
      "163/163 [==============================] - 0s 869us/step - loss: 1.0118 - accuracy: 0.5261 - val_loss: 0.9887 - val_accuracy: 0.5369\n",
      "Epoch 11/100\n",
      "163/163 [==============================] - 0s 880us/step - loss: 1.0123 - accuracy: 0.5243 - val_loss: 0.9884 - val_accuracy: 0.5369\n",
      "Epoch 12/100\n",
      "163/163 [==============================] - 0s 922us/step - loss: 1.0026 - accuracy: 0.5261 - val_loss: 0.9851 - val_accuracy: 0.5369\n",
      "Epoch 13/100\n",
      "163/163 [==============================] - 0s 902us/step - loss: 1.0048 - accuracy: 0.5265 - val_loss: 0.9790 - val_accuracy: 0.5369\n",
      "Epoch 14/100\n",
      "163/163 [==============================] - 0s 888us/step - loss: 1.0045 - accuracy: 0.5255 - val_loss: 0.9851 - val_accuracy: 0.5369\n",
      "Epoch 15/100\n",
      "163/163 [==============================] - 0s 895us/step - loss: 1.0037 - accuracy: 0.5263 - val_loss: 0.9854 - val_accuracy: 0.5369\n",
      "Epoch 16/100\n",
      "163/163 [==============================] - 0s 909us/step - loss: 1.0049 - accuracy: 0.5249 - val_loss: 0.9818 - val_accuracy: 0.5369\n",
      "Epoch 17/100\n",
      "163/163 [==============================] - 0s 918us/step - loss: 0.9998 - accuracy: 0.5257 - val_loss: 0.9837 - val_accuracy: 0.5369\n",
      "Epoch 18/100\n",
      "163/163 [==============================] - 0s 901us/step - loss: 0.9954 - accuracy: 0.5261 - val_loss: 0.9884 - val_accuracy: 0.5369\n",
      "Epoch 19/100\n",
      "163/163 [==============================] - 0s 893us/step - loss: 0.9995 - accuracy: 0.5267 - val_loss: 0.9780 - val_accuracy: 0.5369\n",
      "Epoch 20/100\n",
      "163/163 [==============================] - 0s 893us/step - loss: 0.9982 - accuracy: 0.5278 - val_loss: 0.9865 - val_accuracy: 0.5369\n",
      "Epoch 21/100\n",
      "163/163 [==============================] - 0s 874us/step - loss: 0.9950 - accuracy: 0.5251 - val_loss: 0.9839 - val_accuracy: 0.5369\n",
      "Epoch 22/100\n",
      "163/163 [==============================] - 0s 891us/step - loss: 0.9975 - accuracy: 0.5267 - val_loss: 0.9776 - val_accuracy: 0.5369\n",
      "Epoch 23/100\n",
      "163/163 [==============================] - 0s 904us/step - loss: 0.9881 - accuracy: 0.5259 - val_loss: 0.9797 - val_accuracy: 0.5369\n",
      "Epoch 24/100\n",
      "163/163 [==============================] - 0s 932us/step - loss: 0.9993 - accuracy: 0.5261 - val_loss: 0.9839 - val_accuracy: 0.5369\n",
      "Epoch 25/100\n",
      "163/163 [==============================] - 0s 922us/step - loss: 0.9976 - accuracy: 0.5253 - val_loss: 0.9755 - val_accuracy: 0.5369\n",
      "Epoch 26/100\n",
      "163/163 [==============================] - 0s 898us/step - loss: 0.9921 - accuracy: 0.5270 - val_loss: 0.9806 - val_accuracy: 0.5369\n",
      "Epoch 27/100\n",
      "163/163 [==============================] - 0s 892us/step - loss: 0.9922 - accuracy: 0.5267 - val_loss: 0.9725 - val_accuracy: 0.5369\n",
      "Epoch 28/100\n",
      "163/163 [==============================] - 0s 921us/step - loss: 0.9956 - accuracy: 0.5259 - val_loss: 0.9815 - val_accuracy: 0.5369\n",
      "Epoch 29/100\n",
      "163/163 [==============================] - 0s 908us/step - loss: 0.9924 - accuracy: 0.5267 - val_loss: 0.9840 - val_accuracy: 0.5369\n",
      "Epoch 30/100\n",
      "163/163 [==============================] - 0s 889us/step - loss: 0.9962 - accuracy: 0.5253 - val_loss: 0.9850 - val_accuracy: 0.5369\n",
      "Epoch 31/100\n",
      "163/163 [==============================] - 0s 879us/step - loss: 0.9926 - accuracy: 0.5265 - val_loss: 0.9778 - val_accuracy: 0.5369\n",
      "Epoch 32/100\n",
      "163/163 [==============================] - 0s 877us/step - loss: 0.9923 - accuracy: 0.5263 - val_loss: 0.9768 - val_accuracy: 0.5369\n",
      "Epoch 33/100\n",
      "163/163 [==============================] - 0s 867us/step - loss: 0.9911 - accuracy: 0.5268 - val_loss: 0.9863 - val_accuracy: 0.5369\n",
      "Epoch 34/100\n",
      "163/163 [==============================] - 0s 886us/step - loss: 0.9891 - accuracy: 0.5270 - val_loss: 0.9752 - val_accuracy: 0.5369\n",
      "Epoch 35/100\n",
      "163/163 [==============================] - 0s 895us/step - loss: 0.9973 - accuracy: 0.5263 - val_loss: 0.9821 - val_accuracy: 0.5369\n",
      "Epoch 36/100\n",
      "163/163 [==============================] - 0s 900us/step - loss: 0.9894 - accuracy: 0.5267 - val_loss: 0.9770 - val_accuracy: 0.5369\n",
      "Epoch 37/100\n",
      "163/163 [==============================] - 0s 872us/step - loss: 0.9919 - accuracy: 0.5272 - val_loss: 0.9698 - val_accuracy: 0.5369\n",
      "Epoch 38/100\n",
      "163/163 [==============================] - 0s 875us/step - loss: 0.9884 - accuracy: 0.5257 - val_loss: 0.9754 - val_accuracy: 0.5369\n",
      "Epoch 39/100\n",
      "163/163 [==============================] - 0s 938us/step - loss: 0.9817 - accuracy: 0.5268 - val_loss: 0.9676 - val_accuracy: 0.5446\n",
      "Epoch 40/100\n",
      "163/163 [==============================] - 0s 889us/step - loss: 0.9812 - accuracy: 0.5305 - val_loss: 0.9720 - val_accuracy: 0.5377\n",
      "Epoch 41/100\n",
      "163/163 [==============================] - 0s 906us/step - loss: 0.9881 - accuracy: 0.5349 - val_loss: 0.9648 - val_accuracy: 0.5477\n",
      "Epoch 42/100\n",
      "163/163 [==============================] - 0s 948us/step - loss: 0.9780 - accuracy: 0.5388 - val_loss: 0.9662 - val_accuracy: 0.5608\n",
      "Epoch 43/100\n",
      "163/163 [==============================] - 0s 913us/step - loss: 0.9777 - accuracy: 0.5313 - val_loss: 0.9605 - val_accuracy: 0.5569\n",
      "Epoch 44/100\n",
      "163/163 [==============================] - 0s 888us/step - loss: 0.9766 - accuracy: 0.5399 - val_loss: 0.9653 - val_accuracy: 0.5546\n",
      "Epoch 45/100\n",
      "163/163 [==============================] - 0s 879us/step - loss: 0.9745 - accuracy: 0.5355 - val_loss: 0.9596 - val_accuracy: 0.5554\n",
      "Epoch 46/100\n",
      "163/163 [==============================] - 0s 905us/step - loss: 0.9834 - accuracy: 0.5328 - val_loss: 0.9601 - val_accuracy: 0.5408\n",
      "Epoch 47/100\n",
      "163/163 [==============================] - 0s 916us/step - loss: 0.9781 - accuracy: 0.5365 - val_loss: 0.9656 - val_accuracy: 0.5446\n",
      "Epoch 48/100\n",
      "163/163 [==============================] - 0s 917us/step - loss: 0.9786 - accuracy: 0.5365 - val_loss: 0.9600 - val_accuracy: 0.5669\n",
      "Epoch 49/100\n",
      "163/163 [==============================] - 0s 897us/step - loss: 0.9773 - accuracy: 0.5426 - val_loss: 0.9629 - val_accuracy: 0.5623\n",
      "Epoch 50/100\n",
      "163/163 [==============================] - 0s 908us/step - loss: 0.9804 - accuracy: 0.5368 - val_loss: 0.9629 - val_accuracy: 0.5462\n",
      "Epoch 51/100\n",
      "163/163 [==============================] - 0s 886us/step - loss: 0.9738 - accuracy: 0.5376 - val_loss: 0.9564 - val_accuracy: 0.5654\n",
      "Epoch 52/100\n",
      "163/163 [==============================] - 0s 889us/step - loss: 0.9729 - accuracy: 0.5382 - val_loss: 0.9601 - val_accuracy: 0.5577\n",
      "Epoch 53/100\n",
      "163/163 [==============================] - 0s 892us/step - loss: 0.9782 - accuracy: 0.5345 - val_loss: 0.9564 - val_accuracy: 0.5485\n",
      "Epoch 54/100\n",
      "163/163 [==============================] - 0s 869us/step - loss: 0.9726 - accuracy: 0.5382 - val_loss: 0.9658 - val_accuracy: 0.5569\n",
      "Epoch 55/100\n",
      "163/163 [==============================] - 0s 882us/step - loss: 0.9749 - accuracy: 0.5378 - val_loss: 0.9557 - val_accuracy: 0.5631\n",
      "Epoch 56/100\n",
      "163/163 [==============================] - 0s 881us/step - loss: 0.9718 - accuracy: 0.5395 - val_loss: 0.9494 - val_accuracy: 0.5615\n",
      "Epoch 57/100\n"
     ]
    },
    {
     "name": "stdout",
     "output_type": "stream",
     "text": [
      "163/163 [==============================] - 0s 868us/step - loss: 0.9657 - accuracy: 0.5461 - val_loss: 0.9549 - val_accuracy: 0.5662\n",
      "Epoch 58/100\n",
      "163/163 [==============================] - 0s 873us/step - loss: 0.9696 - accuracy: 0.5417 - val_loss: 0.9520 - val_accuracy: 0.5515\n",
      "Epoch 59/100\n",
      "163/163 [==============================] - 0s 872us/step - loss: 0.9709 - accuracy: 0.5422 - val_loss: 0.9550 - val_accuracy: 0.5669\n",
      "Epoch 60/100\n",
      "163/163 [==============================] - 0s 873us/step - loss: 0.9680 - accuracy: 0.5419 - val_loss: 0.9568 - val_accuracy: 0.5431\n",
      "Epoch 61/100\n",
      "163/163 [==============================] - 0s 897us/step - loss: 0.9715 - accuracy: 0.5409 - val_loss: 0.9581 - val_accuracy: 0.5715\n",
      "Epoch 62/100\n",
      "163/163 [==============================] - 0s 873us/step - loss: 0.9706 - accuracy: 0.5399 - val_loss: 0.9552 - val_accuracy: 0.5631\n",
      "Epoch 63/100\n",
      "163/163 [==============================] - 0s 887us/step - loss: 0.9724 - accuracy: 0.5426 - val_loss: 0.9521 - val_accuracy: 0.5554\n",
      "Epoch 64/100\n",
      "163/163 [==============================] - 0s 900us/step - loss: 0.9704 - accuracy: 0.5470 - val_loss: 0.9509 - val_accuracy: 0.5585\n",
      "Epoch 65/100\n",
      "163/163 [==============================] - 0s 915us/step - loss: 0.9699 - accuracy: 0.5392 - val_loss: 0.9585 - val_accuracy: 0.5485\n",
      "Epoch 66/100\n",
      "163/163 [==============================] - 0s 898us/step - loss: 0.9703 - accuracy: 0.5424 - val_loss: 0.9549 - val_accuracy: 0.5577\n",
      "Epoch 67/100\n",
      "163/163 [==============================] - 0s 879us/step - loss: 0.9703 - accuracy: 0.5428 - val_loss: 0.9519 - val_accuracy: 0.5723\n",
      "Epoch 68/100\n",
      "163/163 [==============================] - 0s 871us/step - loss: 0.9645 - accuracy: 0.5469 - val_loss: 0.9549 - val_accuracy: 0.5623\n",
      "Epoch 69/100\n",
      "163/163 [==============================] - 0s 880us/step - loss: 0.9653 - accuracy: 0.5486 - val_loss: 0.9513 - val_accuracy: 0.5600\n",
      "Epoch 70/100\n",
      "163/163 [==============================] - 0s 883us/step - loss: 0.9655 - accuracy: 0.5457 - val_loss: 0.9458 - val_accuracy: 0.5738\n",
      "Epoch 71/100\n",
      "163/163 [==============================] - 0s 882us/step - loss: 0.9674 - accuracy: 0.5447 - val_loss: 0.9501 - val_accuracy: 0.5631\n",
      "Epoch 72/100\n",
      "163/163 [==============================] - 0s 888us/step - loss: 0.9654 - accuracy: 0.5469 - val_loss: 0.9500 - val_accuracy: 0.5692\n",
      "Epoch 73/100\n",
      "163/163 [==============================] - 0s 871us/step - loss: 0.9666 - accuracy: 0.5444 - val_loss: 0.9518 - val_accuracy: 0.5738\n",
      "Epoch 74/100\n",
      "163/163 [==============================] - 0s 900us/step - loss: 0.9640 - accuracy: 0.5413 - val_loss: 0.9560 - val_accuracy: 0.5738\n",
      "Epoch 75/100\n",
      "163/163 [==============================] - 0s 893us/step - loss: 0.9609 - accuracy: 0.5501 - val_loss: 0.9489 - val_accuracy: 0.5554\n",
      "Epoch 76/100\n",
      "163/163 [==============================] - 0s 895us/step - loss: 0.9599 - accuracy: 0.5553 - val_loss: 0.9456 - val_accuracy: 0.5615\n",
      "Epoch 77/100\n",
      "163/163 [==============================] - 0s 888us/step - loss: 0.9663 - accuracy: 0.5482 - val_loss: 0.9454 - val_accuracy: 0.5708\n",
      "Epoch 78/100\n",
      "163/163 [==============================] - 0s 877us/step - loss: 0.9599 - accuracy: 0.5449 - val_loss: 0.9403 - val_accuracy: 0.5762\n",
      "Epoch 79/100\n",
      "163/163 [==============================] - 0s 887us/step - loss: 0.9637 - accuracy: 0.5478 - val_loss: 0.9486 - val_accuracy: 0.5731\n",
      "Epoch 80/100\n",
      "163/163 [==============================] - 0s 883us/step - loss: 0.9565 - accuracy: 0.5549 - val_loss: 0.9494 - val_accuracy: 0.5746\n",
      "Epoch 81/100\n",
      "163/163 [==============================] - 0s 895us/step - loss: 0.9564 - accuracy: 0.5532 - val_loss: 0.9430 - val_accuracy: 0.5677\n",
      "Epoch 82/100\n",
      "163/163 [==============================] - 0s 937us/step - loss: 0.9629 - accuracy: 0.5494 - val_loss: 0.9549 - val_accuracy: 0.5762\n",
      "Epoch 83/100\n",
      "163/163 [==============================] - 0s 880us/step - loss: 0.9585 - accuracy: 0.5511 - val_loss: 0.9505 - val_accuracy: 0.5708\n",
      "Epoch 84/100\n",
      "163/163 [==============================] - 0s 871us/step - loss: 0.9597 - accuracy: 0.5511 - val_loss: 0.9502 - val_accuracy: 0.5677\n",
      "Epoch 85/100\n",
      "163/163 [==============================] - 0s 882us/step - loss: 0.9621 - accuracy: 0.5505 - val_loss: 0.9436 - val_accuracy: 0.5646\n",
      "Epoch 86/100\n",
      "163/163 [==============================] - 0s 884us/step - loss: 0.9586 - accuracy: 0.5547 - val_loss: 0.9427 - val_accuracy: 0.5754\n",
      "Epoch 87/100\n",
      "163/163 [==============================] - 0s 873us/step - loss: 0.9592 - accuracy: 0.5526 - val_loss: 0.9485 - val_accuracy: 0.5692\n",
      "Epoch 88/100\n",
      "163/163 [==============================] - 0s 871us/step - loss: 0.9531 - accuracy: 0.5578 - val_loss: 0.9412 - val_accuracy: 0.5746\n",
      "Epoch 89/100\n",
      "163/163 [==============================] - 0s 871us/step - loss: 0.9560 - accuracy: 0.5565 - val_loss: 0.9340 - val_accuracy: 0.5754\n",
      "Epoch 90/100\n",
      "163/163 [==============================] - 0s 882us/step - loss: 0.9496 - accuracy: 0.5590 - val_loss: 0.9401 - val_accuracy: 0.5831\n",
      "Epoch 91/100\n",
      "163/163 [==============================] - 0s 875us/step - loss: 0.9511 - accuracy: 0.5599 - val_loss: 0.9412 - val_accuracy: 0.5631\n",
      "Epoch 92/100\n",
      "163/163 [==============================] - 0s 886us/step - loss: 0.9528 - accuracy: 0.5572 - val_loss: 0.9380 - val_accuracy: 0.5777\n",
      "Epoch 93/100\n",
      "163/163 [==============================] - 0s 884us/step - loss: 0.9492 - accuracy: 0.5580 - val_loss: 0.9433 - val_accuracy: 0.5808\n",
      "Epoch 94/100\n",
      "163/163 [==============================] - 0s 884us/step - loss: 0.9525 - accuracy: 0.5638 - val_loss: 0.9445 - val_accuracy: 0.5800\n",
      "Epoch 95/100\n",
      "163/163 [==============================] - 0s 879us/step - loss: 0.9465 - accuracy: 0.5597 - val_loss: 0.9290 - val_accuracy: 0.5831\n",
      "Epoch 96/100\n",
      "163/163 [==============================] - 0s 906us/step - loss: 0.9473 - accuracy: 0.5605 - val_loss: 0.9323 - val_accuracy: 0.5800\n",
      "Epoch 97/100\n",
      "163/163 [==============================] - 0s 883us/step - loss: 0.9485 - accuracy: 0.5626 - val_loss: 0.9357 - val_accuracy: 0.5785\n",
      "Epoch 98/100\n",
      "163/163 [==============================] - 0s 867us/step - loss: 0.9473 - accuracy: 0.5594 - val_loss: 0.9400 - val_accuracy: 0.5577\n",
      "Epoch 99/100\n",
      "163/163 [==============================] - 0s 875us/step - loss: 0.9486 - accuracy: 0.5594 - val_loss: 0.9362 - val_accuracy: 0.5723\n",
      "Epoch 100/100\n",
      "163/163 [==============================] - 0s 911us/step - loss: 0.9438 - accuracy: 0.5634 - val_loss: 0.9313 - val_accuracy: 0.5808\n"
     ]
    },
    {
     "data": {
      "text/plain": [
       "<keras.callbacks.History at 0x7fb63da12cb0>"
      ]
     },
     "execution_count": 162,
     "metadata": {},
     "output_type": "execute_result"
    }
   ],
   "source": [
    "model.fit(X_train, train_labels, epochs=100, validation_data=(X_test, validation_labels))"
   ]
  },
  {
   "cell_type": "code",
   "execution_count": 163,
   "id": "c47b4fcc",
   "metadata": {},
   "outputs": [
    {
     "name": "stdout",
     "output_type": "stream",
     "text": [
      "41/41 [==============================] - 0s 467us/step\n"
     ]
    }
   ],
   "source": [
    "y_pred = model.predict(X_test)"
   ]
  },
  {
   "cell_type": "code",
   "execution_count": 164,
   "id": "2ef54574",
   "metadata": {},
   "outputs": [],
   "source": [
    "y_pred = np.argmax(y_pred, axis = 1)"
   ]
  },
  {
   "cell_type": "code",
   "execution_count": 165,
   "id": "6189329f",
   "metadata": {},
   "outputs": [],
   "source": [
    "from sklearn.metrics import confusion_matrix, ConfusionMatrixDisplay"
   ]
  },
  {
   "cell_type": "code",
   "execution_count": 166,
   "id": "39502d91",
   "metadata": {},
   "outputs": [
    {
     "data": {
      "text/plain": [
       "<sklearn.metrics._plot.confusion_matrix.ConfusionMatrixDisplay at 0x7fb63d1a1db0>"
      ]
     },
     "execution_count": 166,
     "metadata": {},
     "output_type": "execute_result"
    },
    {
     "data": {
      "image/png": "[encoded data removed]",
      "text/plain": [
       "<Figure size 432x288 with 2 Axes>"
      ]
     },
     "metadata": {
      "needs_background": "light"
     },
     "output_type": "display_data"
    }
   ],
   "source": [
    "cm = confusion_matrix(y_test, y_pred)\n",
    "disp = ConfusionMatrixDisplay(cm, display_labels = labeling_maps)\n",
    "disp.plot()"
   ]
  },
  {
   "cell_type": "code",
   "execution_count": 167,
   "id": "8b8c293c",
   "metadata": {},
   "outputs": [],
   "source": [
    "from sklearn.metrics import classification_report"
   ]
  },
  {
   "cell_type": "code",
   "execution_count": 168,
   "id": "eab2f2c9",
   "metadata": {},
   "outputs": [
    {
     "name": "stdout",
     "output_type": "stream",
     "text": [
      "              precision    recall  f1-score   support\n",
      "\n",
      "       local       0.58      0.96      0.72       698\n",
      "        away       0.60      0.27      0.37       312\n",
      "         tie       0.00      0.00      0.00       290\n",
      "\n",
      "    accuracy                           0.58      1300\n",
      "   macro avg       0.39      0.41      0.36      1300\n",
      "weighted avg       0.45      0.58      0.48      1300\n",
      "\n"
     ]
    },
    {
     "name": "stderr",
     "output_type": "stream",
     "text": [
      "/home/fede/Documents/venv/lib/python3.10/site-packages/sklearn/metrics/_classification.py:1334: UndefinedMetricWarning: Precision and F-score are ill-defined and being set to 0.0 in labels with no predicted samples. Use `zero_division` parameter to control this behavior.\n",
      "  _warn_prf(average, modifier, msg_start, len(result))\n",
      "/home/fede/Documents/venv/lib/python3.10/site-packages/sklearn/metrics/_classification.py:1334: UndefinedMetricWarning: Precision and F-score are ill-defined and being set to 0.0 in labels with no predicted samples. Use `zero_division` parameter to control this behavior.\n",
      "  _warn_prf(average, modifier, msg_start, len(result))\n",
      "/home/fede/Documents/venv/lib/python3.10/site-packages/sklearn/metrics/_classification.py:1334: UndefinedMetricWarning: Precision and F-score are ill-defined and being set to 0.0 in labels with no predicted samples. Use `zero_division` parameter to control this behavior.\n",
      "  _warn_prf(average, modifier, msg_start, len(result))\n"
     ]
    }
   ],
   "source": [
    "print(classification_report(y_test, y_pred, target_names=labeling_maps))"
   ]
  },
  {
   "cell_type": "code",
   "execution_count": 176,
   "id": "82ab60a2",
   "metadata": {},
   "outputs": [
    {
     "name": "stdout",
     "output_type": "stream",
     "text": [
      "1/1 [==============================] - 0s 12ms/step\n"
     ]
    }
   ],
   "source": [
    "result = model.predict(X_test[0].reshape(1, 8))"
   ]
  },
  {
   "cell_type": "code",
   "execution_count": 180,
   "id": "6bc7f79b",
   "metadata": {},
   "outputs": [
    {
     "data": {
      "text/plain": [
       "array([0.71763915, 0.1075028 , 0.17485808], dtype=float32)"
      ]
     },
     "execution_count": 180,
     "metadata": {},
     "output_type": "execute_result"
    }
   ],
   "source": [
    "result[0]"
   ]
  },
  {
   "cell_type": "code",
   "execution_count": 181,
   "id": "f664f757",
   "metadata": {},
   "outputs": [],
   "source": [
    "model.save('my_model.h5')"
   ]
  },
  {
   "cell_type": "code",
   "execution_count": 182,
   "id": "b0eeff4a",
   "metadata": {},
   "outputs": [],
   "source": [
    "loaded_model = tf.keras.models.load_model('my_model.h5')"
   ]
  },
  {
   "cell_type": "code",
   "execution_count": null,
   "id": "e09d6df5",
   "metadata": {},
   "outputs": [],
   "source": []
  }
 ],
 "metadata": {
  "kernelspec": {
   "display_name": "Python 3 (ipykernel)",
   "language": "python",
   "name": "python3"
  },
  "language_info": {
   "codemirror_mode": {
    "name": "ipython",
    "version": 3
   },
   "file_extension": ".py",
   "mimetype": "text/x-python",
   "name": "python",
   "nbconvert_exporter": "python",
   "pygments_lexer": "ipython3",
   "version": "3.10.6"
  },
  "toc": {
   "base_numbering": 1,
   "nav_menu": {},
   "number_sections": true,
   "sideBar": true,
   "skip_h1_title": false,
   "title_cell": "Table of Contents",
   "title_sidebar": "Contents",
   "toc_cell": false,
   "toc_position": {},
   "toc_section_display": true,
   "toc_window_display": false
  }
 },
 "nbformat": 4,
 "nbformat_minor": 5
}
